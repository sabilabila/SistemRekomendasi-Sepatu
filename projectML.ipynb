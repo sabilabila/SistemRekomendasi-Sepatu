{
 "cells": [
  {
   "cell_type": "markdown",
   "metadata": {},
   "source": [
    "# Sistem Rekomendasi Sepatu Dengan Content-Based Filtering Menggunakan TF-IDF dan Cosine SImilarity"
   ]
  },
  {
   "cell_type": "code",
   "execution_count": 212,
   "metadata": {},
   "outputs": [
    {
     "data": {
      "text/html": [
       "<div>\n",
       "<style scoped>\n",
       "    .dataframe tbody tr th:only-of-type {\n",
       "        vertical-align: middle;\n",
       "    }\n",
       "\n",
       "    .dataframe tbody tr th {\n",
       "        vertical-align: top;\n",
       "    }\n",
       "\n",
       "    .dataframe thead th {\n",
       "        text-align: right;\n",
       "    }\n",
       "</style>\n",
       "<table border=\"1\" class=\"dataframe\">\n",
       "  <thead>\n",
       "    <tr style=\"text-align: right;\">\n",
       "      <th></th>\n",
       "      <th>Unnamed: 0</th>\n",
       "      <th>Brands</th>\n",
       "      <th>Styles</th>\n",
       "      <th>Prices</th>\n",
       "      <th>Reduced_Prices</th>\n",
       "      <th>Available_in_Multiple_Colors</th>\n",
       "    </tr>\n",
       "  </thead>\n",
       "  <tbody>\n",
       "    <tr>\n",
       "      <th>0</th>\n",
       "      <td>0</td>\n",
       "      <td>adidas</td>\n",
       "      <td>Nemeziz 19.3 TF</td>\n",
       "      <td>399</td>\n",
       "      <td>399 SAR</td>\n",
       "      <td>0</td>\n",
       "    </tr>\n",
       "    <tr>\n",
       "      <th>1</th>\n",
       "      <td>1</td>\n",
       "      <td>adidas</td>\n",
       "      <td>Pro Next 2019</td>\n",
       "      <td>375</td>\n",
       "      <td>375 SAR</td>\n",
       "      <td>0</td>\n",
       "    </tr>\n",
       "    <tr>\n",
       "      <th>2</th>\n",
       "      <td>2</td>\n",
       "      <td>Fila</td>\n",
       "      <td>Drifter Haze Slides</td>\n",
       "      <td>155</td>\n",
       "      <td>155 SAR</td>\n",
       "      <td>0</td>\n",
       "    </tr>\n",
       "    <tr>\n",
       "      <th>3</th>\n",
       "      <td>3</td>\n",
       "      <td>Robert Wood</td>\n",
       "      <td>Leather Cross Strap Sandals</td>\n",
       "      <td>159</td>\n",
       "      <td>159 SAR</td>\n",
       "      <td>0</td>\n",
       "    </tr>\n",
       "    <tr>\n",
       "      <th>4</th>\n",
       "      <td>4</td>\n",
       "      <td>Nike</td>\n",
       "      <td>Air Versitile IV</td>\n",
       "      <td>399</td>\n",
       "      <td>399 SAR</td>\n",
       "      <td>0</td>\n",
       "    </tr>\n",
       "  </tbody>\n",
       "</table>\n",
       "</div>"
      ],
      "text/plain": [
       "   Unnamed: 0       Brands                       Styles Prices Reduced_Prices  \\\n",
       "0           0       adidas              Nemeziz 19.3 TF   399         399 SAR   \n",
       "1           1       adidas                Pro Next 2019   375         375 SAR   \n",
       "2           2         Fila          Drifter Haze Slides   155         155 SAR   \n",
       "3           3  Robert Wood  Leather Cross Strap Sandals   159         159 SAR   \n",
       "4           4         Nike             Air Versitile IV   399         399 SAR   \n",
       "\n",
       "   Available_in_Multiple_Colors  \n",
       "0                             0  \n",
       "1                             0  \n",
       "2                             0  \n",
       "3                             0  \n",
       "4                             0  "
      ]
     },
     "execution_count": 212,
     "metadata": {},
     "output_type": "execute_result"
    }
   ],
   "source": [
    "import pandas as pd\n",
    "import numpy as np\n",
    "from sklearn.metrics.pairwise import cosine_similarity\n",
    "from sklearn.feature_extraction.text import TfidfVectorizer\n",
    "from nltk.corpus import stopwords\n",
    "import re\n",
    "import random\n",
    "import nltk\n",
    "\n",
    "# Membaca file csv dataset yang akan digunakan\n",
    "df_sepatu = pd.read_csv(\"E:/ML/project3.csv\")\n",
    "\n",
    "# Menampilkan isi dataset project3.csv\n",
    "df_sepatu.head() "
   ]
  },
  {
   "cell_type": "code",
   "execution_count": 213,
   "metadata": {},
   "outputs": [
    {
     "name": "stdout",
     "output_type": "stream",
     "text": [
      "<class 'pandas.core.frame.DataFrame'>\n",
      "RangeIndex: 1973 entries, 0 to 1972\n",
      "Data columns (total 6 columns):\n",
      " #   Column                        Non-Null Count  Dtype \n",
      "---  ------                        --------------  ----- \n",
      " 0   Unnamed: 0                    1973 non-null   int64 \n",
      " 1   Brands                        1973 non-null   object\n",
      " 2   Styles                        1973 non-null   object\n",
      " 3   Prices                        1973 non-null   object\n",
      " 4   Reduced_Prices                1973 non-null   object\n",
      " 5   Available_in_Multiple_Colors  1973 non-null   int64 \n",
      "dtypes: int64(2), object(4)\n",
      "memory usage: 92.6+ KB\n"
     ]
    }
   ],
   "source": [
    "# Menampilkan informasi dari dataframe misalkan ada berapa data dan apa saja kolom yang ada\n",
    "df_sepatu.info()"
   ]
  },
  {
   "cell_type": "code",
   "execution_count": 214,
   "metadata": {},
   "outputs": [
    {
     "data": {
      "text/html": [
       "<div>\n",
       "<style scoped>\n",
       "    .dataframe tbody tr th:only-of-type {\n",
       "        vertical-align: middle;\n",
       "    }\n",
       "\n",
       "    .dataframe tbody tr th {\n",
       "        vertical-align: top;\n",
       "    }\n",
       "\n",
       "    .dataframe thead th {\n",
       "        text-align: right;\n",
       "    }\n",
       "</style>\n",
       "<table border=\"1\" class=\"dataframe\">\n",
       "  <thead>\n",
       "    <tr style=\"text-align: right;\">\n",
       "      <th></th>\n",
       "      <th>Unnamed: 0</th>\n",
       "      <th>Available_in_Multiple_Colors</th>\n",
       "    </tr>\n",
       "  </thead>\n",
       "  <tbody>\n",
       "    <tr>\n",
       "      <th>count</th>\n",
       "      <td>1973.000000</td>\n",
       "      <td>1973.000000</td>\n",
       "    </tr>\n",
       "    <tr>\n",
       "      <th>mean</th>\n",
       "      <td>1544.992904</td>\n",
       "      <td>0.194627</td>\n",
       "    </tr>\n",
       "    <tr>\n",
       "      <th>std</th>\n",
       "      <td>846.214605</td>\n",
       "      <td>0.396014</td>\n",
       "    </tr>\n",
       "    <tr>\n",
       "      <th>min</th>\n",
       "      <td>0.000000</td>\n",
       "      <td>0.000000</td>\n",
       "    </tr>\n",
       "    <tr>\n",
       "      <th>25%</th>\n",
       "      <td>826.000000</td>\n",
       "      <td>0.000000</td>\n",
       "    </tr>\n",
       "    <tr>\n",
       "      <th>50%</th>\n",
       "      <td>1606.000000</td>\n",
       "      <td>0.000000</td>\n",
       "    </tr>\n",
       "    <tr>\n",
       "      <th>75%</th>\n",
       "      <td>2254.000000</td>\n",
       "      <td>0.000000</td>\n",
       "    </tr>\n",
       "    <tr>\n",
       "      <th>max</th>\n",
       "      <td>2941.000000</td>\n",
       "      <td>1.000000</td>\n",
       "    </tr>\n",
       "  </tbody>\n",
       "</table>\n",
       "</div>"
      ],
      "text/plain": [
       "        Unnamed: 0  Available_in_Multiple_Colors\n",
       "count  1973.000000                   1973.000000\n",
       "mean   1544.992904                      0.194627\n",
       "std     846.214605                      0.396014\n",
       "min       0.000000                      0.000000\n",
       "25%     826.000000                      0.000000\n",
       "50%    1606.000000                      0.000000\n",
       "75%    2254.000000                      0.000000\n",
       "max    2941.000000                      1.000000"
      ]
     },
     "execution_count": 214,
     "metadata": {},
     "output_type": "execute_result"
    }
   ],
   "source": [
    "# Menampilkan ringkasan statistik data\n",
    "df_sepatu.describe()"
   ]
  },
  {
   "cell_type": "code",
   "execution_count": 215,
   "metadata": {},
   "outputs": [],
   "source": [
    "# Untuk mengetahui isi informasi dari sepatu yang ada di dalam dataframe dengan menginputkan index yang kemudian ditampilkan\n",
    "def print_datasepatu(index):\n",
    "    hasil = df_sepatu[df_sepatu.index == index][['Brands', 'Styles', 'Prices', 'Available_in_Multiple_Colors']].values[0]\n",
    "    if len(hasil) > 0:\n",
    "        print('Nama Brand:', hasil[0])\n",
    "        print('Model:', hasil[1]) \n",
    "        print('Harga:', hasil[2])\n",
    "        if hasil[3] == 0:\n",
    "            print('Tersedia Berbagai Warna: Tidak')\n",
    "        else:\n",
    "            print('Tersedia Berbagai Warna: Ya')"
   ]
  },
  {
   "cell_type": "code",
   "execution_count": 216,
   "metadata": {},
   "outputs": [
    {
     "name": "stdout",
     "output_type": "stream",
     "text": [
      "Nama Brand: adidas\n",
      "Model: Galaxy 4\n",
      "Harga: 275 \n",
      "Tersedia Berbagai Warna: Tidak\n"
     ]
    }
   ],
   "source": [
    "# Memanggil fungsi print_datasepatu untuk menampilkan sepatu sesuai index yang di-inputkan\n",
    "# Menampilkan data sepatu yang memiliki index 24\n",
    "print_datasepatu(24) "
   ]
  },
  {
   "cell_type": "code",
   "execution_count": 217,
   "metadata": {},
   "outputs": [
    {
     "data": {
      "text/html": [
       "<div>\n",
       "<style scoped>\n",
       "    .dataframe tbody tr th:only-of-type {\n",
       "        vertical-align: middle;\n",
       "    }\n",
       "\n",
       "    .dataframe tbody tr th {\n",
       "        vertical-align: top;\n",
       "    }\n",
       "\n",
       "    .dataframe thead th {\n",
       "        text-align: right;\n",
       "    }\n",
       "</style>\n",
       "<table border=\"1\" class=\"dataframe\">\n",
       "  <thead>\n",
       "    <tr style=\"text-align: right;\">\n",
       "      <th></th>\n",
       "      <th>Unnamed: 0</th>\n",
       "      <th>Brands</th>\n",
       "      <th>Styles</th>\n",
       "      <th>Prices</th>\n",
       "      <th>Reduced_Prices</th>\n",
       "      <th>Available_in_Multiple_Colors</th>\n",
       "      <th>brands</th>\n",
       "      <th>styles</th>\n",
       "      <th>desc_clean</th>\n",
       "    </tr>\n",
       "  </thead>\n",
       "  <tbody>\n",
       "    <tr>\n",
       "      <th>0</th>\n",
       "      <td>0</td>\n",
       "      <td>adidas</td>\n",
       "      <td>Nemeziz 19.3 TF</td>\n",
       "      <td>399</td>\n",
       "      <td>399 SAR</td>\n",
       "      <td>0</td>\n",
       "      <td>adidas</td>\n",
       "      <td>nemeziz 193 tf</td>\n",
       "      <td>adidas nemeziz 193 tf</td>\n",
       "    </tr>\n",
       "    <tr>\n",
       "      <th>1</th>\n",
       "      <td>1</td>\n",
       "      <td>adidas</td>\n",
       "      <td>Pro Next 2019</td>\n",
       "      <td>375</td>\n",
       "      <td>375 SAR</td>\n",
       "      <td>0</td>\n",
       "      <td>adidas</td>\n",
       "      <td>pro next 2019</td>\n",
       "      <td>adidas pro next 2019</td>\n",
       "    </tr>\n",
       "    <tr>\n",
       "      <th>2</th>\n",
       "      <td>2</td>\n",
       "      <td>Fila</td>\n",
       "      <td>Drifter Haze Slides</td>\n",
       "      <td>155</td>\n",
       "      <td>155 SAR</td>\n",
       "      <td>0</td>\n",
       "      <td>fila</td>\n",
       "      <td>drifter haze slides</td>\n",
       "      <td>fila drifter haze slides</td>\n",
       "    </tr>\n",
       "    <tr>\n",
       "      <th>3</th>\n",
       "      <td>3</td>\n",
       "      <td>Robert Wood</td>\n",
       "      <td>Leather Cross Strap Sandals</td>\n",
       "      <td>159</td>\n",
       "      <td>159 SAR</td>\n",
       "      <td>0</td>\n",
       "      <td>robert wood</td>\n",
       "      <td>leather cross strap sandals</td>\n",
       "      <td>robert wood leather cross strap sandals</td>\n",
       "    </tr>\n",
       "    <tr>\n",
       "      <th>4</th>\n",
       "      <td>4</td>\n",
       "      <td>Nike</td>\n",
       "      <td>Air Versitile IV</td>\n",
       "      <td>399</td>\n",
       "      <td>399 SAR</td>\n",
       "      <td>0</td>\n",
       "      <td>nike</td>\n",
       "      <td>air versitile iv</td>\n",
       "      <td>nike air versitile iv</td>\n",
       "    </tr>\n",
       "  </tbody>\n",
       "</table>\n",
       "</div>"
      ],
      "text/plain": [
       "   Unnamed: 0       Brands                       Styles Prices Reduced_Prices  \\\n",
       "0           0       adidas              Nemeziz 19.3 TF   399         399 SAR   \n",
       "1           1       adidas                Pro Next 2019   375         375 SAR   \n",
       "2           2         Fila          Drifter Haze Slides   155         155 SAR   \n",
       "3           3  Robert Wood  Leather Cross Strap Sandals   159         159 SAR   \n",
       "4           4         Nike             Air Versitile IV   399         399 SAR   \n",
       "\n",
       "   Available_in_Multiple_Colors       brands                       styles  \\\n",
       "0                             0       adidas               nemeziz 193 tf   \n",
       "1                             0       adidas                pro next 2019   \n",
       "2                             0         fila          drifter haze slides   \n",
       "3                             0  robert wood  leather cross strap sandals   \n",
       "4                             0         nike             air versitile iv   \n",
       "\n",
       "                                desc_clean  \n",
       "0                    adidas nemeziz 193 tf  \n",
       "1                     adidas pro next 2019  \n",
       "2                 fila drifter haze slides  \n",
       "3  robert wood leather cross strap sandals  \n",
       "4                    nike air versitile iv  "
      ]
     },
     "execution_count": 217,
     "metadata": {},
     "output_type": "execute_result"
    }
   ],
   "source": [
    "# Text processing pada kolom Brands dan Styles agar nanti dapat diproses menjadi angka dengan TF-IDF dan Cosine Similarity\n",
    "clean_spcl = re.compile('[/(){}\\[\\]\\|@,;]')\n",
    "clean_symbol = re.compile('[^0-9a-z #+_]')\n",
    "stopworda = set(stopwords.words('english'))\n",
    "\n",
    "def clean_text(text):\n",
    "    text = text.lower() # lowercase text\n",
    "    text = clean_spcl.sub(' ', text)\n",
    "    text = clean_symbol.sub('', text)\n",
    "    text = ' '.join(word for word in text.split() if word not in stopworda) # hapus stopword dari kolom Styles\n",
    "    return text\n",
    "\n",
    "# Buat kolom tambahan untuk data Brands dan Styles yang telah dibersihkan   \n",
    "df_sepatu['brands'] = df_sepatu['Brands'].apply(clean_text)\n",
    "df_sepatu['styles'] = df_sepatu['Styles'].apply(clean_text)\n",
    "\n",
    "# Menggabungkan kolom Brands dan Styles\n",
    "def sepatu(x):\n",
    "    return ''.join(x['brands']) + ' '  + ''.join(x['styles'])\n",
    "\n",
    "# Menyimpan ke variabel baru gabungan kolom Brands dan Styles\n",
    "df_sepatu['desc_clean'] = df_sepatu.apply(sepatu, axis=1)\n",
    "df_sepatu.head()"
   ]
  },
  {
   "cell_type": "code",
   "execution_count": 218,
   "metadata": {},
   "outputs": [],
   "source": [
    "# Untuk mengetahui isi informasi dari sepatu setelah data dibersihkan dengan menginputkan index yang kemudian ditampilkan\n",
    "def print_datasepatu_clean(index):\n",
    "    hasil = df_sepatu[df_sepatu.index == index][['Brands', 'Styles', 'Prices', 'Available_in_Multiple_Colors']].values[0]\n",
    "    if len(hasil) > 0:\n",
    "        print('Nama Brand:', hasil[0])\n",
    "        print('Model:', hasil[1]) \n",
    "        print('Harga:', hasil[2])\n",
    "        if hasil[3] == 0:\n",
    "            print('Tersedia Berbagai Warna: Tidak')\n",
    "        else:\n",
    "            print('Tersedia Berbagai Warna: Ya')"
   ]
  },
  {
   "cell_type": "code",
   "execution_count": 219,
   "metadata": {},
   "outputs": [
    {
     "name": "stdout",
     "output_type": "stream",
     "text": [
      "Nama Brand: Seventy Five\n",
      "Model: Graze Sneakers\n",
      "Harga: 119 \n",
      "Tersedia Berbagai Warna: Ya\n"
     ]
    }
   ],
   "source": [
    "# Memanggil fungsi print_datasepatu_clean untuk menampilkan sepatu sesuai index yang di-inputkan\n",
    "# Menampilkan data sepatu yang memiliki index 21\n",
    "print_datasepatu_clean(21)"
   ]
  },
  {
   "cell_type": "markdown",
   "metadata": {},
   "source": [
    "# 2 Feature : Brands dan Styles"
   ]
  },
  {
   "cell_type": "code",
   "execution_count": 220,
   "metadata": {
    "scrolled": true
   },
   "outputs": [
    {
     "data": {
      "text/plain": [
       "(1973, 6925)"
      ]
     },
     "execution_count": 220,
     "metadata": {},
     "output_type": "execute_result"
    }
   ],
   "source": [
    "# Perhitungan TF-IDF\n",
    "tf = TfidfVectorizer(analyzer='word', ngram_range=(1, 3), min_df=0, stop_words='english')\n",
    "tfidf_matrix = tf.fit_transform(df_sepatu['desc_clean'])\n",
    "tfidf_matrix.shape"
   ]
  },
  {
   "cell_type": "code",
   "execution_count": 221,
   "metadata": {},
   "outputs": [
    {
     "data": {
      "text/plain": [
       "array([[1.        , 0.0312039 , 0.        , ..., 0.        , 0.        ,\n",
       "        0.        ],\n",
       "       [0.0312039 , 1.        , 0.        , ..., 0.        , 0.        ,\n",
       "        0.        ],\n",
       "       [0.        , 0.        , 1.        , ..., 0.        , 0.        ,\n",
       "        0.        ],\n",
       "       ...,\n",
       "       [0.        , 0.        , 0.        , ..., 1.        , 0.07941065,\n",
       "        0.09740071],\n",
       "       [0.        , 0.        , 0.        , ..., 0.07941065, 1.        ,\n",
       "        0.14731238],\n",
       "       [0.        , 0.        , 0.        , ..., 0.09740071, 0.14731238,\n",
       "        1.        ]])"
      ]
     },
     "execution_count": 221,
     "metadata": {},
     "output_type": "execute_result"
    }
   ],
   "source": [
    "# Perhitungan Cosine Similarity untuk diubah ke matriks\n",
    "cos_sim = cosine_similarity(tfidf_matrix, tfidf_matrix)\n",
    "cos_sim"
   ]
  },
  {
   "cell_type": "code",
   "execution_count": 222,
   "metadata": {},
   "outputs": [
    {
     "data": {
      "text/plain": [
       "0                 Nemeziz 19.3 TF\n",
       "1                   Pro Next 2019\n",
       "2             Drifter Haze Slides\n",
       "3     Leather Cross Strap Sandals\n",
       "4                Air Versitile IV\n",
       "5                     Md Runner 2\n",
       "6                   Alex Sneakers\n",
       "7             Espadrille Slip Ons\n",
       "8                    Duramo Slide\n",
       "9                          Zubazz\n",
       "10                Eezay Flip Flop\n",
       "11        Go Walk Evolution Ultra\n",
       "12                 Trent Sneakers\n",
       "13                    Go Walk Max\n",
       "14                         Harsen\n",
       "15                Revolution 4 EU\n",
       "16                    Renew Arena\n",
       "17            SB Check Solar Cnvs\n",
       "18                Padded Sneakers\n",
       "19                   Oxford Boots\n",
       "20                   Rogue X Knit\n",
       "21                 Graze Sneakers\n",
       "22            Old School Sneakers\n",
       "23                  Bane Sneakers\n",
       "24                       Galaxy 4\n",
       "Name: Styles, dtype: object"
      ]
     },
     "execution_count": 222,
     "metadata": {},
     "output_type": "execute_result"
    }
   ],
   "source": [
    "# Untuk membuat set index utama di kolom Styles\n",
    "indices = pd.Series(df_sepatu.Styles)\n",
    "\n",
    "# Untuk menampilkan isi dari indices namun hanya 25 yang ditampilkan\n",
    "indices[:25]"
   ]
  },
  {
   "cell_type": "code",
   "execution_count": 223,
   "metadata": {},
   "outputs": [],
   "source": [
    "# Fungsi untuk merekomendasikan sepatu sesuai hasil dari TF-IDF dan cosine similarity\n",
    "def rekomendasi_sepatu(masukan, cos_sim = cos_sim):\n",
    "    \n",
    "    sepatu_rekomendasi = []\n",
    "    \n",
    "    # Mengambil nama style sepatu berdasarkan variabel indicies\n",
    "    idx = indices[indices == masukan].index[0]\n",
    "\n",
    "    # Membuat series berdasarkan skor kesamaan\n",
    "    score_series = pd.Series(cos_sim[idx]).sort_values(ascending = False)\n",
    "\n",
    "    # Mengambil index dan dibuat 30 baris rekomendasi terbaik\n",
    "    top_30_indexes = list(score_series.iloc[1:31].index)\n",
    "    \n",
    "    for i in top_30_indexes:\n",
    "        sepatu_rekomendasi.append(list(\"Nama Brands:\" + df_sepatu.Brands)[i])\n",
    "        sepatu_rekomendasi.append(list(\"Nama Style :\" + df_sepatu.Styles)[i])\n",
    "        #sepatu_rekomendasi.append(list(df_sepatu.Prices)[i])\n",
    "        \n",
    "    return sepatu_rekomendasi"
   ]
  },
  {
   "cell_type": "code",
   "execution_count": 224,
   "metadata": {},
   "outputs": [
    {
     "data": {
      "text/plain": [
       "['Nama Brands:Skechers',\n",
       " 'Nama Style :Go Walk 4',\n",
       " 'Nama Brands:Skechers',\n",
       " 'Nama Style :Go Walk 4',\n",
       " 'Nama Brands:Skechers',\n",
       " 'Nama Style :Go Walk 5',\n",
       " 'Nama Brands:Skechers',\n",
       " 'Nama Style :Equalizer',\n",
       " 'Nama Brands:Skechers',\n",
       " 'Nama Style :Bounder',\n",
       " 'Nama Brands:Skechers',\n",
       " 'Nama Style :Bounder',\n",
       " 'Nama Brands:Skechers',\n",
       " 'Nama Style :Bounder',\n",
       " 'Nama Brands:Skechers',\n",
       " 'Nama Style :Bounder',\n",
       " 'Nama Brands:Skechers',\n",
       " 'Nama Style :Matera',\n",
       " 'Nama Brands:Skechers',\n",
       " 'Nama Style :Overhaul',\n",
       " 'Nama Brands:Skechers',\n",
       " 'Nama Style :Matera',\n",
       " 'Nama Brands:Skechers',\n",
       " \"Nama Style :D'Lites\",\n",
       " 'Nama Brands:Skechers',\n",
       " 'Nama Style :Matera',\n",
       " 'Nama Brands:Skechers',\n",
       " 'Nama Style :Harper',\n",
       " 'Nama Brands:Skechers',\n",
       " 'Nama Style :Harper',\n",
       " 'Nama Brands:Skechers',\n",
       " 'Nama Style :Harper',\n",
       " 'Nama Brands:Skechers',\n",
       " 'Nama Style :Marauder',\n",
       " 'Nama Brands:Skechers',\n",
       " 'Nama Style :Quillin',\n",
       " 'Nama Brands:Skechers',\n",
       " 'Nama Style :Drafter',\n",
       " 'Nama Brands:Skechers',\n",
       " 'Nama Style :Terrabite',\n",
       " 'Nama Brands:Skechers',\n",
       " 'Nama Style :Terraza',\n",
       " 'Nama Brands:Skechers',\n",
       " 'Nama Style :Marauder',\n",
       " 'Nama Brands:Skechers',\n",
       " 'Nama Style :Terraza',\n",
       " 'Nama Brands:Skechers',\n",
       " 'Nama Style :Haniger',\n",
       " 'Nama Brands:Skechers',\n",
       " 'Nama Style :Superior',\n",
       " 'Nama Brands:Skechers',\n",
       " 'Nama Style :Harsen',\n",
       " 'Nama Brands:Skechers',\n",
       " 'Nama Style :Drafter',\n",
       " 'Nama Brands:Skechers',\n",
       " 'Nama Style :Harsen',\n",
       " 'Nama Brands:Skechers',\n",
       " 'Nama Style :Summits',\n",
       " 'Nama Brands:Skechers',\n",
       " 'Nama Style :Reggae']"
      ]
     },
     "execution_count": 224,
     "metadata": {},
     "output_type": "execute_result"
    }
   ],
   "source": [
    "rekomendasi_sepatu('Zubazz')"
   ]
  },
  {
   "cell_type": "code",
   "execution_count": 225,
   "metadata": {},
   "outputs": [
    {
     "data": {
      "text/plain": [
       "['Nama Brands:Puma',\n",
       " 'Nama Style :Cozy Flip',\n",
       " 'Nama Brands:Havaianas',\n",
       " 'Nama Style :Classic Flip Flops',\n",
       " 'Nama Brands:Havaianas',\n",
       " 'Nama Style :Classic Flip Flops',\n",
       " 'Nama Brands:Havaianas',\n",
       " 'Nama Style :Classic Flip Flops',\n",
       " 'Nama Brands:Havaianas',\n",
       " 'Nama Style :Classic Flip Flops',\n",
       " 'Nama Brands:Hype',\n",
       " 'Nama Style :Casual Flip Flops',\n",
       " 'Nama Brands:Havaianas',\n",
       " 'Nama Style :Logo Flip Flops',\n",
       " 'Nama Brands:Reserved',\n",
       " 'Nama Style :Essential Flip Flops',\n",
       " 'Nama Brands:Aldo',\n",
       " 'Nama Style :Qyllan Flip Flops',\n",
       " 'Nama Brands:Aldo',\n",
       " 'Nama Style :Qyllan Flip Flops',\n",
       " 'Nama Brands:Reebok',\n",
       " 'Nama Style :Cash Flip Flops',\n",
       " 'Nama Brands:Reebok',\n",
       " 'Nama Style :Cash Flip Flops',\n",
       " 'Nama Brands:Call It Spring',\n",
       " 'Nama Style :Jickson Flip Flops',\n",
       " 'Nama Brands:Call It Spring',\n",
       " 'Nama Style :Jickson Flip Flops',\n",
       " 'Nama Brands:Only & Sons',\n",
       " 'Nama Style :Essential Flip Flops',\n",
       " 'Nama Brands:Only & Sons',\n",
       " 'Nama Style :Essential Flip Flops',\n",
       " 'Nama Brands:Hype',\n",
       " 'Nama Style :Script Flip Flops',\n",
       " 'Nama Brands:Hype',\n",
       " 'Nama Style :Script Flip Flops',\n",
       " 'Nama Brands:Lacoste',\n",
       " 'Nama Style :Croco Flip Flops',\n",
       " 'Nama Brands:Havaianas',\n",
       " 'Nama Style :Camo Flip Flops',\n",
       " 'Nama Brands:Aldo',\n",
       " 'Nama Style :Thymel Flip flops',\n",
       " 'Nama Brands:Aldo',\n",
       " 'Nama Style :Crirevia Flip Flops',\n",
       " 'Nama Brands:Aldo',\n",
       " 'Nama Style :Onaleniel Flip Flops',\n",
       " 'Nama Brands:Call It Spring',\n",
       " 'Nama Style :Groeneweg Flip Flops',\n",
       " 'Nama Brands:Call It Spring',\n",
       " 'Nama Style :Wardell  Flip Flops',\n",
       " 'Nama Brands:Call It Spring',\n",
       " 'Nama Style :Creber Flip Flops',\n",
       " 'Nama Brands:Cotton On',\n",
       " 'Nama Style :Bondi Flip Flops',\n",
       " 'Nama Brands:Diesel',\n",
       " 'Nama Style :Briian Flip Flops',\n",
       " 'Nama Brands:Puma',\n",
       " 'Nama Style :Epic Flip V2',\n",
       " 'Nama Brands:Puma',\n",
       " 'Nama Style :Epic Flip v2']"
      ]
     },
     "execution_count": 225,
     "metadata": {},
     "output_type": "execute_result"
    }
   ],
   "source": [
    "rekomendasi_sepatu('Eezay Flip Flop')"
   ]
  },
  {
   "cell_type": "code",
   "execution_count": 226,
   "metadata": {},
   "outputs": [
    {
     "data": {
      "text/plain": [
       "['Nama Brands:Robert Wood',\n",
       " 'Nama Style :Casual Boots',\n",
       " 'Nama Brands:Robert Wood',\n",
       " 'Nama Style :Casual Boots',\n",
       " 'Nama Brands:Robert Wood',\n",
       " 'Nama Style :Formal Boots',\n",
       " 'Nama Brands:Robert Wood',\n",
       " 'Nama Style :Classic Oxford Lace Ups',\n",
       " 'Nama Brands:Robert Wood',\n",
       " 'Nama Style :Classic Oxford Lace Ups',\n",
       " 'Nama Brands:Robert Wood',\n",
       " 'Nama Style :Chukka Boots',\n",
       " 'Nama Brands:Robert Wood',\n",
       " 'Nama Style :Classic Brogue Oxford Lace Ups',\n",
       " 'Nama Brands:Robert Wood',\n",
       " 'Nama Style :Classic Brogue Oxford Lace Ups',\n",
       " 'Nama Brands:Robert Wood',\n",
       " 'Nama Style :Perforated Toe Cap Oxford Lace Ups',\n",
       " 'Nama Brands:Robert Wood',\n",
       " 'Nama Style :Classic Moccasins',\n",
       " 'Nama Brands:Robert Wood',\n",
       " 'Nama Style :Classic Moccasins',\n",
       " 'Nama Brands:Robert Wood',\n",
       " 'Nama Style :Classic Moccasins',\n",
       " 'Nama Brands:Robert Wood',\n",
       " 'Nama Style :Classic Moccasins',\n",
       " 'Nama Brands:Robert Wood',\n",
       " 'Nama Style :Faux Suede and Leather Chelsea Boots',\n",
       " 'Nama Brands:Robert Wood',\n",
       " 'Nama Style :Casual Loafers',\n",
       " 'Nama Brands:Robert Wood',\n",
       " 'Nama Style :Classic Loafers',\n",
       " 'Nama Brands:Robert Wood',\n",
       " 'Nama Style :Formal Slip ons',\n",
       " 'Nama Brands:Robert Wood',\n",
       " 'Nama Style :Formal Slip Ons',\n",
       " 'Nama Brands:Robert Wood',\n",
       " 'Nama Style :Formal Slip Ons',\n",
       " 'Nama Brands:Robert Wood',\n",
       " 'Nama Style :Two Strap Sandals',\n",
       " 'Nama Brands:Robert Wood',\n",
       " 'Nama Style :Leather Sandals',\n",
       " 'Nama Brands:Robert Wood',\n",
       " 'Nama Style :Casual Slip Ons',\n",
       " 'Nama Brands:Robert Wood',\n",
       " 'Nama Style :Perforated Moccasins',\n",
       " 'Nama Brands:Robert Wood',\n",
       " 'Nama Style :Perforated Moccasins',\n",
       " 'Nama Brands:Seventy Five',\n",
       " 'Nama Style :Oxford Sneakers',\n",
       " 'Nama Brands:Seventy Five',\n",
       " 'Nama Style :Oxford Sneakers',\n",
       " 'Nama Brands:Robert Wood',\n",
       " 'Nama Style :Classic Moccaisns',\n",
       " 'Nama Brands:Robert Wood',\n",
       " 'Nama Style :Tassel Loafers',\n",
       " 'Nama Brands:Robert Wood',\n",
       " 'Nama Style :Casual Lace Ups',\n",
       " 'Nama Brands:Robert Wood',\n",
       " 'Nama Style :Casual Lace Ups']"
      ]
     },
     "execution_count": 226,
     "metadata": {},
     "output_type": "execute_result"
    }
   ],
   "source": [
    "rekomendasi_sepatu('Oxford Boots')"
   ]
  },
  {
   "cell_type": "markdown",
   "metadata": {},
   "source": [
    "    "
   ]
  },
  {
   "cell_type": "markdown",
   "metadata": {},
   "source": [
    "# 1 Feature : Styles"
   ]
  },
  {
   "cell_type": "code",
   "execution_count": 227,
   "metadata": {},
   "outputs": [
    {
     "data": {
      "text/plain": [
       "(1973, 4298)"
      ]
     },
     "execution_count": 227,
     "metadata": {},
     "output_type": "execute_result"
    }
   ],
   "source": [
    "# Perhitungan TF-IDF\n",
    "tf1 = TfidfVectorizer(analyzer='word', ngram_range=(1, 3), min_df=0, stop_words='english')\n",
    "tfidf_matrix1 = tf1.fit_transform(df_sepatu['styles'])\n",
    "tfidf_matrix1.shape"
   ]
  },
  {
   "cell_type": "code",
   "execution_count": 228,
   "metadata": {},
   "outputs": [
    {
     "data": {
      "text/plain": [
       "array([[1.        , 0.        , 0.        , ..., 0.        , 0.        ,\n",
       "        0.        ],\n",
       "       [0.        , 1.        , 0.        , ..., 0.        , 0.        ,\n",
       "        0.        ],\n",
       "       [0.        , 0.        , 1.        , ..., 0.        , 0.        ,\n",
       "        0.        ],\n",
       "       ...,\n",
       "       [0.        , 0.        , 0.        , ..., 1.        , 0.        ,\n",
       "        0.        ],\n",
       "       [0.        , 0.        , 0.        , ..., 0.        , 1.        ,\n",
       "        0.07629403],\n",
       "       [0.        , 0.        , 0.        , ..., 0.        , 0.07629403,\n",
       "        1.        ]])"
      ]
     },
     "execution_count": 228,
     "metadata": {},
     "output_type": "execute_result"
    }
   ],
   "source": [
    "# Perhitungan Cosine Similarity untuk diubah ke matriks\n",
    "cos_sim1 = cosine_similarity(tfidf_matrix1, tfidf_matrix1)\n",
    "cos_sim1"
   ]
  },
  {
   "cell_type": "code",
   "execution_count": 229,
   "metadata": {},
   "outputs": [],
   "source": [
    "# Untuk membuat set index utama di kolom Styles\n",
    "indices1 = pd.Series(df_sepatu.Styles)"
   ]
  },
  {
   "cell_type": "code",
   "execution_count": 230,
   "metadata": {},
   "outputs": [
    {
     "data": {
      "text/plain": [
       "0                 Nemeziz 19.3 TF\n",
       "1                   Pro Next 2019\n",
       "2             Drifter Haze Slides\n",
       "3     Leather Cross Strap Sandals\n",
       "4                Air Versitile IV\n",
       "5                     Md Runner 2\n",
       "6                   Alex Sneakers\n",
       "7             Espadrille Slip Ons\n",
       "8                    Duramo Slide\n",
       "9                          Zubazz\n",
       "10                Eezay Flip Flop\n",
       "11        Go Walk Evolution Ultra\n",
       "12                 Trent Sneakers\n",
       "13                    Go Walk Max\n",
       "14                         Harsen\n",
       "15                Revolution 4 EU\n",
       "16                    Renew Arena\n",
       "17            SB Check Solar Cnvs\n",
       "18                Padded Sneakers\n",
       "19                   Oxford Boots\n",
       "20                   Rogue X Knit\n",
       "21                 Graze Sneakers\n",
       "22            Old School Sneakers\n",
       "23                  Bane Sneakers\n",
       "24                       Galaxy 4\n",
       "Name: Styles, dtype: object"
      ]
     },
     "execution_count": 230,
     "metadata": {},
     "output_type": "execute_result"
    }
   ],
   "source": [
    "# Untuk menampilkan isi dari indices namun hanya 25 yang ditampilkan\n",
    "indices1[:25]"
   ]
  },
  {
   "cell_type": "code",
   "execution_count": 231,
   "metadata": {},
   "outputs": [],
   "source": [
    "# Fungsi untuk merekomendasikan sepatu sesuai hasil dari TF-IDF dan cosine similarity\n",
    "def rekomendasi_sepatu_1(masukan, cos_sim1 = cos_sim1):\n",
    "    \n",
    "    sepatu_rekomendasi_1 = []\n",
    "    \n",
    "    # Mengambil nama style sepatu berdasarkan variabel indicies\n",
    "    idx1 = indices1[indices1 == masukan].index[0]\n",
    "\n",
    "    # Membuat series berdasarkan skor kesamaan\n",
    "    score_series1 = pd.Series(cos_sim1[idx1]).sort_values(ascending = False)\n",
    "\n",
    "    # Mengambil index dan dibuat 30 baris rekomendasi terbaik\n",
    "    top_30_indexes1 = list(score_series1.iloc[1:31].index)\n",
    "    \n",
    "    for i in top_30_indexes1:\n",
    "        sepatu_rekomendasi_1.append(list(\"Nama Brands :\" + df_sepatu.Brands)[i])\n",
    "        sepatu_rekomendasi_1.append(list(\"Nama Style :\" + df_sepatu.Styles)[i])\n",
    "        #sepatu_rekomendasi_1.append(list(df_sepatu.Prices)[i])\n",
    "        \n",
    "    return sepatu_rekomendasi_1"
   ]
  },
  {
   "cell_type": "code",
   "execution_count": 232,
   "metadata": {},
   "outputs": [
    {
     "data": {
      "text/plain": [
       "['Nama Brands :FitFlop',\n",
       " 'Nama Style :Ryker Sandals',\n",
       " 'Nama Brands :Skechers',\n",
       " 'Nama Style :Relven',\n",
       " 'Nama Brands :Seventy Five',\n",
       " 'Nama Style :Check Print Soft Bedroom Slippers',\n",
       " 'Nama Brands :Tommy Hilfiger',\n",
       " 'Nama Style :Lightweight Knit Flag Sneakers',\n",
       " 'Nama Brands :Lacoste',\n",
       " 'Nama Style :Maricle Slipons',\n",
       " 'Nama Brands :Tommy Jeans',\n",
       " 'Nama Style :Plimsolls  Slip Ons',\n",
       " 'Nama Brands :Burton',\n",
       " 'Nama Style :Casual Slip Ons',\n",
       " 'Nama Brands :Burton',\n",
       " 'Nama Style :Casual Slip Ons',\n",
       " 'Nama Brands :Superdry',\n",
       " 'Nama Style :Trophy 2.0 Flip Flops',\n",
       " 'Nama Brands :Call It Spring',\n",
       " 'Nama Style :Ybiari Slip Ons',\n",
       " 'Nama Brands :Ecco',\n",
       " 'Nama Style :Dress Moccasins',\n",
       " 'Nama Brands :Skechers',\n",
       " 'Nama Style :Go Run 600',\n",
       " 'Nama Brands :Jack & Jones',\n",
       " 'Nama Style :Thai Sneakers',\n",
       " 'Nama Brands :Jack & Jones',\n",
       " 'Nama Style :Nimbus Canvas Mix Sneakers',\n",
       " 'Nama Brands :Skechers',\n",
       " \"Nama Style :D'Lites\",\n",
       " 'Nama Brands :adidas Originals',\n",
       " 'Nama Style :Swift Run',\n",
       " 'Nama Brands :Brave Soul',\n",
       " 'Nama Style :Gator Sandals',\n",
       " 'Nama Brands :Nike',\n",
       " 'Nama Style :Sb Check Solar Cnvs',\n",
       " 'Nama Brands :adidas Originals',\n",
       " 'Nama Style :3MC',\n",
       " 'Nama Brands :Skechers',\n",
       " 'Nama Style :Go Walk 4',\n",
       " 'Nama Brands :adidas',\n",
       " 'Nama Style :Runfalcon',\n",
       " 'Nama Brands :Nike',\n",
       " 'Nama Style :Air Jordan 1 Low',\n",
       " 'Nama Brands :Skechers',\n",
       " 'Nama Style :Go Flex 2 - Compact',\n",
       " 'Nama Brands :adidas',\n",
       " 'Nama Style :Senseboost Go',\n",
       " 'Nama Brands :Skechers',\n",
       " 'Nama Style :On-The-Go Glide',\n",
       " 'Nama Brands :Skechers',\n",
       " \"Nama Style :D'Lite Ultra\",\n",
       " 'Nama Brands :Skechers',\n",
       " 'Nama Style :Dynamight 2.0',\n",
       " 'Nama Brands :adidas Originals',\n",
       " 'Nama Style :Continental 80',\n",
       " 'Nama Brands :Aldo',\n",
       " 'Nama Style :Adaon Sneakers',\n",
       " 'Nama Brands :Puma',\n",
       " 'Nama Style :Wired Mesh 2.0']"
      ]
     },
     "execution_count": 232,
     "metadata": {},
     "output_type": "execute_result"
    }
   ],
   "source": [
    "rekomendasi_sepatu_1('Zubazz')"
   ]
  },
  {
   "cell_type": "code",
   "execution_count": 233,
   "metadata": {},
   "outputs": [
    {
     "data": {
      "text/plain": [
       "['Nama Brands :Puma',\n",
       " 'Nama Style :Cozy Flip',\n",
       " 'Nama Brands :Hype',\n",
       " 'Nama Style :Casual Flip Flops',\n",
       " 'Nama Brands :Emporio Armani',\n",
       " 'Nama Style :Casual Flip Flops',\n",
       " 'Nama Brands :Jack & Jones',\n",
       " 'Nama Style :Logo Flip Flops',\n",
       " 'Nama Brands :Havaianas',\n",
       " 'Nama Style :Logo Flip Flops',\n",
       " 'Nama Brands :Jack & Jones',\n",
       " 'Nama Style :Logo Flip Flops',\n",
       " 'Nama Brands :Havaianas',\n",
       " 'Nama Style :Classic Flip Flops',\n",
       " 'Nama Brands :Havaianas',\n",
       " 'Nama Style :Classic Flip Flops',\n",
       " 'Nama Brands :Havaianas',\n",
       " 'Nama Style :Classic Flip Flops',\n",
       " 'Nama Brands :Havaianas',\n",
       " 'Nama Style :Classic Flip Flops',\n",
       " 'Nama Brands :Only & Sons',\n",
       " 'Nama Style :Essential Flip Flops',\n",
       " 'Nama Brands :Reserved',\n",
       " 'Nama Style :Essential Flip Flops',\n",
       " 'Nama Brands :Only & Sons',\n",
       " 'Nama Style :Essential Flip Flops',\n",
       " 'Nama Brands :Brave Soul',\n",
       " 'Nama Style :Striped Flip Flops',\n",
       " 'Nama Brands :Hype',\n",
       " 'Nama Style :Script Flip Flops',\n",
       " 'Nama Brands :Hype',\n",
       " 'Nama Style :Script Flip Flops',\n",
       " 'Nama Brands :Havaianas',\n",
       " 'Nama Style :Camo Flip Flops',\n",
       " 'Nama Brands :Reebok',\n",
       " 'Nama Style :Cash Flip Flops',\n",
       " 'Nama Brands :Aldo',\n",
       " 'Nama Style :Qyllan Flip Flops',\n",
       " 'Nama Brands :Reebok',\n",
       " 'Nama Style :Cash Flip Flops',\n",
       " 'Nama Brands :Call It Spring',\n",
       " 'Nama Style :Jickson Flip Flops',\n",
       " 'Nama Brands :Aldo',\n",
       " 'Nama Style :Qyllan Flip Flops',\n",
       " 'Nama Brands :Call It Spring',\n",
       " 'Nama Style :Jickson Flip Flops',\n",
       " 'Nama Brands :Tommy Hilfiger',\n",
       " 'Nama Style :Corporate Flip Flops',\n",
       " 'Nama Brands :Brave Soul',\n",
       " 'Nama Style :Snake Flip Flops',\n",
       " 'Nama Brands :Lacoste',\n",
       " 'Nama Style :Croco Flip Flops',\n",
       " 'Nama Brands :Cotton On',\n",
       " 'Nama Style :Bondi Flip Flops',\n",
       " 'Nama Brands :Diesel',\n",
       " 'Nama Style :Briian Flip Flops',\n",
       " 'Nama Brands :Call It Spring',\n",
       " 'Nama Style :Creber Flip Flops',\n",
       " 'Nama Brands :Havaianas',\n",
       " 'Nama Style :Mario Flip Flops']"
      ]
     },
     "execution_count": 233,
     "metadata": {},
     "output_type": "execute_result"
    }
   ],
   "source": [
    "rekomendasi_sepatu_1('Eezay Flip Flop')"
   ]
  },
  {
   "cell_type": "code",
   "execution_count": 234,
   "metadata": {},
   "outputs": [
    {
     "data": {
      "text/plain": [
       "['Nama Brands :Seventy Five',\n",
       " 'Nama Style :Oxford Sneakers',\n",
       " 'Nama Brands :Seventy Five',\n",
       " 'Nama Style :Oxford Sneakers',\n",
       " 'Nama Brands :Robert Wood',\n",
       " 'Nama Style :Casual Boots',\n",
       " 'Nama Brands :J.Crew',\n",
       " 'Nama Style :Casual Boots',\n",
       " 'Nama Brands :Robert Wood',\n",
       " 'Nama Style :Casual Boots',\n",
       " 'Nama Brands :Tommy Hilfiger',\n",
       " 'Nama Style :Casual Boots',\n",
       " 'Nama Brands :Robert Wood',\n",
       " 'Nama Style :Formal Boots',\n",
       " 'Nama Brands :Burton',\n",
       " 'Nama Style :Formal Boots',\n",
       " 'Nama Brands :Jack & Jones',\n",
       " 'Nama Style :Nubuck Boots',\n",
       " 'Nama Brands :Robert Wood',\n",
       " 'Nama Style :Chukka Boots',\n",
       " 'Nama Brands :Timberland',\n",
       " 'Nama Style :Killington 6\" Boots',\n",
       " 'Nama Brands :Timberland',\n",
       " 'Nama Style :Killington 6 In Boots',\n",
       " 'Nama Brands :Jack & Jones',\n",
       " 'Nama Style :Stoke  Boots',\n",
       " 'Nama Brands :Call It Spring',\n",
       " 'Nama Style :Malsburg Boots',\n",
       " 'Nama Brands :Jack & Jones',\n",
       " 'Nama Style :Albany Boots',\n",
       " 'Nama Brands :Kurt Geiger London',\n",
       " 'Nama Style :Billington Boots',\n",
       " 'Nama Brands :Aldo',\n",
       " 'Nama Style :Boewien Boots',\n",
       " 'Nama Brands :Kurt Geiger London',\n",
       " 'Nama Style :Balfour Boots',\n",
       " 'Nama Brands :Robert Wood',\n",
       " 'Nama Style :Classic Oxford Lace Ups',\n",
       " 'Nama Brands :Robert Wood',\n",
       " 'Nama Style :Classic Oxford Lace Ups',\n",
       " 'Nama Brands :Robert Wood',\n",
       " 'Nama Style :Classic Brogue Oxford Lace Ups',\n",
       " 'Nama Brands :Robert Wood',\n",
       " 'Nama Style :Classic Brogue Oxford Lace Ups',\n",
       " 'Nama Brands :Cotton On',\n",
       " 'Nama Style :Essential Bedroom Boots',\n",
       " 'Nama Brands :Jack & Jones',\n",
       " 'Nama Style :Stoke Nubuck Boots',\n",
       " 'Nama Brands :Burton',\n",
       " 'Nama Style :Carpenter Chelsea Boots',\n",
       " 'Nama Brands :New Look',\n",
       " 'Nama Style :Alden Desert Boots',\n",
       " 'Nama Brands :Jack & Jones',\n",
       " 'Nama Style :Flint Mixed Boots',\n",
       " 'Nama Brands :Robert Wood',\n",
       " 'Nama Style :Perforated Toe Cap Oxford Lace Ups',\n",
       " 'Nama Brands :Topman',\n",
       " 'Nama Style :Suede Atlas Chukka Boots',\n",
       " 'Nama Brands :Robert Wood',\n",
       " 'Nama Style :Faux Suede and Leather Chelsea Boots']"
      ]
     },
     "execution_count": 234,
     "metadata": {},
     "output_type": "execute_result"
    }
   ],
   "source": [
    "rekomendasi_sepatu_1('Oxford Boots')"
   ]
  }
 ],
 "metadata": {
  "kernelspec": {
   "display_name": "Python 3",
   "language": "python",
   "name": "python3"
  },
  "language_info": {
   "codemirror_mode": {
    "name": "ipython",
    "version": 3
   },
   "file_extension": ".py",
   "mimetype": "text/x-python",
   "name": "python",
   "nbconvert_exporter": "python",
   "pygments_lexer": "ipython3",
   "version": "3.8.5"
  }
 },
 "nbformat": 4,
 "nbformat_minor": 4
}
